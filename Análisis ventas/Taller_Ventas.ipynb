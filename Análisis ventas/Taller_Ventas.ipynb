{
  "cells": [
    {
      "cell_type": "code",
      "execution_count": 3,
      "metadata": {},
      "outputs": [],
      "source": [
        "import pandas as pd"
      ]
    },
    {
      "cell_type": "code",
      "execution_count": 5,
      "metadata": {
        "id": "hhO6M1aZpmaS"
      },
      "outputs": [
        {
          "name": "stderr",
          "output_type": "stream",
          "text": [
            "c:\\Users\\Asus\\AppData\\Local\\Programs\\Python\\Python312\\Lib\\site-packages\\openpyxl\\worksheet\\_reader.py:329: UserWarning: Unknown extension is not supported and will be removed\n",
            "  warn(msg)\n"
          ]
        }
      ],
      "source": [
        "#leer archivo en formato de excel\n",
        "ventas = pd.read_excel(\"example_ventas.xlsx\")"
      ]
    },
    {
      "cell_type": "code",
      "execution_count": 6,
      "metadata": {
        "colab": {
          "base_uri": "https://localhost:8080/",
          "height": 614
        },
        "id": "3QOSRfXZsemx",
        "outputId": "0f997a05-03c3-4e26-8620-a6b158643fa0"
      },
      "outputs": [
        {
          "data": {
            "text/html": [
              "<div>\n",
              "<style scoped>\n",
              "    .dataframe tbody tr th:only-of-type {\n",
              "        vertical-align: middle;\n",
              "    }\n",
              "\n",
              "    .dataframe tbody tr th {\n",
              "        vertical-align: top;\n",
              "    }\n",
              "\n",
              "    .dataframe thead th {\n",
              "        text-align: right;\n",
              "    }\n",
              "</style>\n",
              "<table border=\"1\" class=\"dataframe\">\n",
              "  <thead>\n",
              "    <tr style=\"text-align: right;\">\n",
              "      <th></th>\n",
              "      <th>Fecha</th>\n",
              "      <th>Region</th>\n",
              "      <th>Producto</th>\n",
              "      <th>Vendedor</th>\n",
              "      <th>Ventas</th>\n",
              "    </tr>\n",
              "  </thead>\n",
              "  <tbody>\n",
              "    <tr>\n",
              "      <th>0</th>\n",
              "      <td>2024-02-16</td>\n",
              "      <td>Oeste</td>\n",
              "      <td>Sistemas</td>\n",
              "      <td>Kevin</td>\n",
              "      <td>32855</td>\n",
              "    </tr>\n",
              "    <tr>\n",
              "      <th>1</th>\n",
              "      <td>2024-02-05</td>\n",
              "      <td>Central</td>\n",
              "      <td>Sistemas</td>\n",
              "      <td>Karen</td>\n",
              "      <td>30633</td>\n",
              "    </tr>\n",
              "    <tr>\n",
              "      <th>2</th>\n",
              "      <td>2024-02-17</td>\n",
              "      <td>Oeste</td>\n",
              "      <td>Sistemas</td>\n",
              "      <td>Sara</td>\n",
              "      <td>23151</td>\n",
              "    </tr>\n",
              "    <tr>\n",
              "      <th>3</th>\n",
              "      <td>2024-02-04</td>\n",
              "      <td>Central</td>\n",
              "      <td>Sistemas</td>\n",
              "      <td>David</td>\n",
              "      <td>20098</td>\n",
              "    </tr>\n",
              "    <tr>\n",
              "      <th>4</th>\n",
              "      <td>2024-02-10</td>\n",
              "      <td>Este</td>\n",
              "      <td>Sistemas</td>\n",
              "      <td>Ana</td>\n",
              "      <td>13531</td>\n",
              "    </tr>\n",
              "    <tr>\n",
              "      <th>5</th>\n",
              "      <td>2024-02-11</td>\n",
              "      <td>Este</td>\n",
              "      <td>Sistemas</td>\n",
              "      <td>Lucas</td>\n",
              "      <td>13374</td>\n",
              "    </tr>\n",
              "    <tr>\n",
              "      <th>6</th>\n",
              "      <td>2024-02-03</td>\n",
              "      <td>Central</td>\n",
              "      <td>Dispositivos</td>\n",
              "      <td>Karen</td>\n",
              "      <td>12948</td>\n",
              "    </tr>\n",
              "    <tr>\n",
              "      <th>7</th>\n",
              "      <td>2024-02-02</td>\n",
              "      <td>Central</td>\n",
              "      <td>Dispositivos</td>\n",
              "      <td>David</td>\n",
              "      <td>11420</td>\n",
              "    </tr>\n",
              "    <tr>\n",
              "      <th>8</th>\n",
              "      <td>2024-02-14</td>\n",
              "      <td>Oeste</td>\n",
              "      <td>Dispositivos</td>\n",
              "      <td>Kevin</td>\n",
              "      <td>10711</td>\n",
              "    </tr>\n",
              "    <tr>\n",
              "      <th>9</th>\n",
              "      <td>2024-02-08</td>\n",
              "      <td>Este</td>\n",
              "      <td>Dispositivos</td>\n",
              "      <td>Ana</td>\n",
              "      <td>10348</td>\n",
              "    </tr>\n",
              "    <tr>\n",
              "      <th>10</th>\n",
              "      <td>2024-02-06</td>\n",
              "      <td>Este</td>\n",
              "      <td>Accesorios</td>\n",
              "      <td>Ana</td>\n",
              "      <td>9323</td>\n",
              "    </tr>\n",
              "    <tr>\n",
              "      <th>11</th>\n",
              "      <td>2024-02-09</td>\n",
              "      <td>Este</td>\n",
              "      <td>Dispositivos</td>\n",
              "      <td>Lucas</td>\n",
              "      <td>9312</td>\n",
              "    </tr>\n",
              "    <tr>\n",
              "      <th>12</th>\n",
              "      <td>2024-02-15</td>\n",
              "      <td>Oeste</td>\n",
              "      <td>Dispositivos</td>\n",
              "      <td>Sara</td>\n",
              "      <td>8780</td>\n",
              "    </tr>\n",
              "    <tr>\n",
              "      <th>13</th>\n",
              "      <td>2024-01-31</td>\n",
              "      <td>Central</td>\n",
              "      <td>Accesorios</td>\n",
              "      <td>David</td>\n",
              "      <td>8287</td>\n",
              "    </tr>\n",
              "    <tr>\n",
              "      <th>14</th>\n",
              "      <td>2024-02-07</td>\n",
              "      <td>Este</td>\n",
              "      <td>Accesorios</td>\n",
              "      <td>Lucas</td>\n",
              "      <td>7667</td>\n",
              "    </tr>\n",
              "    <tr>\n",
              "      <th>15</th>\n",
              "      <td>2024-02-01</td>\n",
              "      <td>Central</td>\n",
              "      <td>Accesorios</td>\n",
              "      <td>Karen</td>\n",
              "      <td>6909</td>\n",
              "    </tr>\n",
              "    <tr>\n",
              "      <th>16</th>\n",
              "      <td>2024-02-13</td>\n",
              "      <td>Oeste</td>\n",
              "      <td>Accesorios</td>\n",
              "      <td>Sara</td>\n",
              "      <td>5442</td>\n",
              "    </tr>\n",
              "    <tr>\n",
              "      <th>17</th>\n",
              "      <td>2024-02-12</td>\n",
              "      <td>Oeste</td>\n",
              "      <td>Accesorios</td>\n",
              "      <td>Kevin</td>\n",
              "      <td>4744</td>\n",
              "    </tr>\n",
              "    <tr>\n",
              "      <th>18</th>\n",
              "      <td>NaT</td>\n",
              "      <td>NaN</td>\n",
              "      <td>NaN</td>\n",
              "      <td>Total</td>\n",
              "      <td>239533</td>\n",
              "    </tr>\n",
              "  </tbody>\n",
              "</table>\n",
              "</div>"
            ],
            "text/plain": [
              "        Fecha   Region      Producto Vendedor  Ventas\n",
              "0  2024-02-16    Oeste      Sistemas    Kevin   32855\n",
              "1  2024-02-05  Central      Sistemas    Karen   30633\n",
              "2  2024-02-17    Oeste      Sistemas     Sara   23151\n",
              "3  2024-02-04  Central      Sistemas    David   20098\n",
              "4  2024-02-10     Este      Sistemas      Ana   13531\n",
              "5  2024-02-11     Este      Sistemas    Lucas   13374\n",
              "6  2024-02-03  Central  Dispositivos    Karen   12948\n",
              "7  2024-02-02  Central  Dispositivos    David   11420\n",
              "8  2024-02-14    Oeste  Dispositivos    Kevin   10711\n",
              "9  2024-02-08     Este  Dispositivos      Ana   10348\n",
              "10 2024-02-06     Este    Accesorios      Ana    9323\n",
              "11 2024-02-09     Este  Dispositivos    Lucas    9312\n",
              "12 2024-02-15    Oeste  Dispositivos     Sara    8780\n",
              "13 2024-01-31  Central    Accesorios    David    8287\n",
              "14 2024-02-07     Este    Accesorios    Lucas    7667\n",
              "15 2024-02-01  Central    Accesorios    Karen    6909\n",
              "16 2024-02-13    Oeste    Accesorios     Sara    5442\n",
              "17 2024-02-12    Oeste    Accesorios    Kevin    4744\n",
              "18        NaT      NaN           NaN    Total  239533"
            ]
          },
          "execution_count": 6,
          "metadata": {},
          "output_type": "execute_result"
        }
      ],
      "source": [
        "ventas"
      ]
    },
    {
      "cell_type": "code",
      "execution_count": 7,
      "metadata": {
        "colab": {
          "base_uri": "https://localhost:8080/"
        },
        "id": "dsS158AhsgwN",
        "outputId": "97f39297-a214-4589-a552-f0240bd39ea2"
      },
      "outputs": [
        {
          "name": "stdout",
          "output_type": "stream",
          "text": [
            "       Fecha   Region  Producto Vendedor  Ventas\n",
            "0 2024-02-16    Oeste  Sistemas    Kevin   32855\n",
            "1 2024-02-05  Central  Sistemas    Karen   30633\n",
            "2 2024-02-17    Oeste  Sistemas     Sara   23151\n",
            "3 2024-02-04  Central  Sistemas    David   20098\n",
            "4 2024-02-10     Este  Sistemas      Ana   13531\n"
          ]
        }
      ],
      "source": [
        "print(ventas.head(5))"
      ]
    },
    {
      "cell_type": "code",
      "execution_count": 9,
      "metadata": {
        "colab": {
          "base_uri": "https://localhost:8080/"
        },
        "id": "gtCOfmgc34UI",
        "outputId": "7e5ece7f-72bb-46dd-cdec-ee21dae201fb"
      },
      "outputs": [
        {
          "name": "stdout",
          "output_type": "stream",
          "text": [
            "Region\n",
            "Central    90295\n",
            "Este       63555\n",
            "Oeste      85683\n",
            "Name: Ventas, dtype: int64\n"
          ]
        }
      ],
      "source": [
        "# ventas por region\n",
        "ventas_región = ventas.groupby('Region')['Ventas'].sum()\n",
        "print(ventas_región)"
      ]
    },
    {
      "cell_type": "code",
      "execution_count": 11,
      "metadata": {
        "colab": {
          "base_uri": "https://localhost:8080/"
        },
        "id": "MDFQRhx54bi0",
        "outputId": "df3083d7-52ab-4451-abd7-5b680325f0b0"
      },
      "outputs": [
        {
          "name": "stdout",
          "output_type": "stream",
          "text": [
            "        Fecha   Region      Producto Vendedor  Ventas\n",
            "3  2024-02-04  Central      Sistemas    David   20098\n",
            "7  2024-02-02  Central  Dispositivos    David   11420\n",
            "13 2024-01-31  Central    Accesorios    David    8287\n"
          ]
        }
      ],
      "source": [
        "#Ventas realizadas por David\n",
        "ventas_david = ventas[ventas['Vendedor'] == 'David']\n",
        "print(ventas_david)"
      ]
    },
    {
      "cell_type": "code",
      "execution_count": 12,
      "metadata": {
        "colab": {
          "base_uri": "https://localhost:8080/"
        },
        "id": "8nl20beO5Ftp",
        "outputId": "feb7947d-a7a9-44ab-c84a-0aefe3ff1433"
      },
      "outputs": [
        {
          "name": "stdout",
          "output_type": "stream",
          "text": [
            "        Fecha   Region      Producto Vendedor  Ventas\n",
            "18        NaT      NaN           NaN    Total  239533\n",
            "0  2024-02-16    Oeste      Sistemas    Kevin   32855\n",
            "1  2024-02-05  Central      Sistemas    Karen   30633\n",
            "2  2024-02-17    Oeste      Sistemas     Sara   23151\n",
            "3  2024-02-04  Central      Sistemas    David   20098\n",
            "4  2024-02-10     Este      Sistemas      Ana   13531\n",
            "5  2024-02-11     Este      Sistemas    Lucas   13374\n",
            "6  2024-02-03  Central  Dispositivos    Karen   12948\n",
            "7  2024-02-02  Central  Dispositivos    David   11420\n",
            "8  2024-02-14    Oeste  Dispositivos    Kevin   10711\n",
            "9  2024-02-08     Este  Dispositivos      Ana   10348\n"
          ]
        }
      ],
      "source": [
        "# ventas mayores a 10000 por region, si cambias el ascending dependiendo el true or false puedes ponerlo de menor a mayor y viceversa\n",
        "ventas_filtradas = ventas[ventas['Ventas'] > 10000].sort_values(by = 'Ventas', ascending = False)\n",
        "print(ventas_filtradas)"
      ]
    },
    {
      "cell_type": "code",
      "execution_count": 13,
      "metadata": {
        "colab": {
          "base_uri": "https://localhost:8080/"
        },
        "id": "rTMxuHib6Y_4",
        "outputId": "642f6931-e899-41d6-941d-4838756add07"
      },
      "outputs": [
        {
          "name": "stdout",
          "output_type": "stream",
          "text": [
            "        Fecha   Region      Producto  Ventas\n",
            "0  2024-02-16    Oeste      Sistemas   32855\n",
            "1  2024-02-05  Central      Sistemas   30633\n",
            "2  2024-02-17    Oeste      Sistemas   23151\n",
            "3  2024-02-04  Central      Sistemas   20098\n",
            "4  2024-02-10     Este      Sistemas   13531\n",
            "5  2024-02-11     Este      Sistemas   13374\n",
            "6  2024-02-03  Central  Dispositivos   12948\n",
            "7  2024-02-02  Central  Dispositivos   11420\n",
            "8  2024-02-14    Oeste  Dispositivos   10711\n",
            "9  2024-02-08     Este  Dispositivos   10348\n",
            "10 2024-02-06     Este    Accesorios    9323\n",
            "11 2024-02-09     Este  Dispositivos    9312\n",
            "12 2024-02-15    Oeste  Dispositivos    8780\n",
            "13 2024-01-31  Central    Accesorios    8287\n",
            "14 2024-02-07     Este    Accesorios    7667\n",
            "15 2024-02-01  Central    Accesorios    6909\n",
            "16 2024-02-13    Oeste    Accesorios    5442\n",
            "17 2024-02-12    Oeste    Accesorios    4744\n",
            "18        NaT      NaN           NaN  239533\n"
          ]
        }
      ],
      "source": [
        "# eliminar columna vendedor\n",
        "df_eliminado = ventas.drop(columns='Vendedor')\n",
        "print(df_eliminado)"
      ]
    }
  ],
  "metadata": {
    "colab": {
      "provenance": []
    },
    "kernelspec": {
      "display_name": "Python 3",
      "name": "python3"
    },
    "language_info": {
      "codemirror_mode": {
        "name": "ipython",
        "version": 3
      },
      "file_extension": ".py",
      "mimetype": "text/x-python",
      "name": "python",
      "nbconvert_exporter": "python",
      "pygments_lexer": "ipython3",
      "version": "3.12.5"
    }
  },
  "nbformat": 4,
  "nbformat_minor": 0
}
